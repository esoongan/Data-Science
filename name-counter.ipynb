{
 "cells": [
  {
   "cell_type": "code",
   "execution_count": null,
   "metadata": {},
   "outputs": [],
   "source": [
    "import pandas as pd\n",
    "import numpy as np\n",
    "\n",
    "df = pd.read_csv('celeb_name_list.csv')        # 연예인 리스트\n",
    "article_file = open('/Users/hayeong/DataScience/Data-Science/DSlocal/test_data.txt', 'r')      # 크롤링한 기사 제목들의 텍스트 파일 (구분자는 '\\n'으로 가정)\n",
    "\n",
    "# name_articles_dict: {name: <연예인 이름 리스트>, article: <기사 제목 리스트>}\n",
    "articles_dict = {'Name':[], 'Article':[]}\n",
    "\n",
    "df.head(10)"
   ]
  },
  {
   "cell_type": "code",
   "execution_count": null,
   "metadata": {},
   "outputs": [],
   "source": [
    "while True:\n",
    "    # 크롤링한 기사 제목 한 줄을 읽어옴\n",
    "    article = article_file.readline()\n",
    "    # 크롤링한 기사 제목을 모두 읽었으면 break\n",
    "    if article == '':\n",
    "        break\n",
    "    article = article[:article.rfind(' ')]       # 기사 제목 뒤의 신문사 이름 제외시키기\n",
    "    # namelist 안의 모든 연예인 이름에 대해서 기사 제목에 포함되는 이름이 있는 지 확인\n",
    "    for name in df['Name']:\n",
    "        # 보통 연예인 이름 뒤에 컴마가 오길래 '<이름>,'를 찾는걸로 해봄\n",
    "        if name+',' in article:\n",
    "            if not (name in articles_dict['Name']):\n",
    "                articles_dict['Name'].append(name)\n",
    "                articles_dict['Article'].append(article+'\\n')\n",
    "            else:\n",
    "                index = articles_dict['Name'].index(name)\n",
    "                if not (article in articles_dict['Article'][index]):\n",
    "                    articles_dict['Article'][index] += article+'\\n'\n",
    "                \n",
    "        # 제목에 포함된 연예인을 찾았어도 연예인 리스트 전체 탐색함\n",
    "        # => 기사에 두 명 이상의 연예인이 있을 경우 모두 찾음\n",
    "article_df = pd.DataFrame(articles_dict)"
   ]
  },
  {
   "cell_type": "code",
   "execution_count": null,
   "metadata": {},
   "outputs": [],
   "source": [
    "article_df.head(10)"
   ]
  },
  {
   "cell_type": "code",
   "execution_count": null,
   "metadata": {
    "scrolled": true
   },
   "outputs": [],
   "source": [
    "# count_dict: {Name : 연예인 이름 리스트, Count : 언급 횟수}\n",
    "count_dict = {'Name': articles_dict['Name'], 'Count': []}\n",
    "i = 0\n",
    "for name in articles_dict['Name']:\n",
    "    count_dict['Count'].append(articles_dict['Article'][i].count('\\n'))\n",
    "    i +=1\n",
    "\n",
    "count_df = pd.DataFrame(count_dict)\n",
    "count_df.head()"
   ]
  },
  {
   "cell_type": "code",
   "execution_count": null,
   "metadata": {},
   "outputs": [],
   "source": [
    "# df에 언급 횟수인 Count 컬럼 추가\n",
    "merged_df = pd.merge(df, count_df, on='Name', how = 'outer')\n",
    "merged_df.head()"
   ]
  },
  {
   "cell_type": "code",
   "execution_count": null,
   "metadata": {},
   "outputs": [],
   "source": [
    "# 언급 되지 않은 연예인이 있는 행은 삭제\n",
    "temp_df = merged_df.dropna(axis = 0, how = 'any')\n",
    "# 언급 횟수 기준 내림차순으로 정렬\n",
    "df = temp_df.sort_values(by = 'Count', ascending=False,)\n",
    "df.head(20)"
   ]
  },
  {
   "cell_type": "code",
   "execution_count": null,
   "metadata": {
    "scrolled": false
   },
   "outputs": [],
   "source": [
    "### 생략 가능 ###\n",
    "# 동명이인일 시 두 명 다 같은 언급횟수를 가지고 있음  ex)김희정(49세), 김희정(28세): 기사 하나에 언급되면 둘 다 count = 1이 됨\n",
    "# duplicated: 동명이인인 이름의 리스트\n",
    "duplicated = df[df.Name.duplicated()]['Name'][:20].tolist()\n",
    "print('=== 동명이인인 이름 리스트 ===')\n",
    "print(duplicated)\n",
    "\n",
    "\n",
    "# 동명이인이 들어간 기사 체크하기\n",
    "for key in duplicated:\n",
    "    print('>> '+key+'\\n' + articles_dict['Article'][articles_dict['Name'].index(key)])\n",
    "\n",
    "# 동명이인의 정보 확인하기\n",
    "duplicated_df = df[df['Name'].isin(duplicated)]\n",
    "duplicated_df.head()"
   ]
  },
  {
   "cell_type": "code",
   "execution_count": null,
   "metadata": {},
   "outputs": [],
   "source": [
    "candidates = df['Name'].tolist()[:20]\n",
    "print('=== Top 20 ===')\n",
    "print(candidates)"
   ]
  },
  {
   "cell_type": "code",
   "execution_count": null,
   "metadata": {},
   "outputs": [],
   "source": [
    "# 상위 20명의 기사가 제대로 된 것인지 체크하기\n",
    "print('=== Check articles ===')\n",
    "for key in candidates:\n",
    "    print('>> '+key+'\\n' + articles_dict['Article'][articles_dict['Name'].index(key)])"
   ]
  },
  {
   "cell_type": "code",
   "execution_count": null,
   "metadata": {},
   "outputs": [],
   "source": [
    "merged_df = pd.merge(df, article_df, on='Name', how = 'outer')\n",
    "# csv로 저장\n",
    "merged_df.to_csv('candidates.csv', index=False, mode='w', encoding='utf-8-sig')\n",
    "merged_df.head(20)"
   ]
  }
 ],
 "metadata": {
  "kernelspec": {
   "display_name": "Python 3",
   "language": "python",
   "name": "python3"
  },
  "language_info": {
   "codemirror_mode": {
    "name": "ipython",
    "version": 3
   },
   "file_extension": ".py",
   "mimetype": "text/x-python",
   "name": "python",
   "nbconvert_exporter": "python",
   "pygments_lexer": "ipython3",
   "version": "3.8.3"
  }
 },
 "nbformat": 4,
 "nbformat_minor": 4
}

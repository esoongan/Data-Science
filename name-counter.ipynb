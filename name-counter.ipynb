{
 "cells": [
  {
   "cell_type": "code",
   "execution_count": 1,
   "metadata": {},
   "outputs": [],
   "source": [
    "name_file = open('./test_namelist.txt', 'r')     # 연예인 이름 리스트의 텍스트 파일 (구분자는 '\\n'으로 가정)\n",
    "article_file = open('./test_data.txt', 'r')      # 크롤링한 기사 제목들의 텍스트 파일 (구분자는 '\\n'으로 가정)\n",
    "output_file = open('./test_output.txt', 'w')     # 언급 횟수의 내림차순으로 결과값을 쓸 텍스트파일 (비어있어야 함 구분자는 ','와 '\\n')\n",
    "\n",
    "# name_count_dict: {연예인 이름 : 언급 횟수}\n",
    "name_count_dict = {}\n",
    "# namelist: 연예인 이름 리스트.txt에 있는 모든 이름들의 리스트\n",
    "namelist = []"
   ]
  },
  {
   "cell_type": "code",
   "execution_count": 2,
   "metadata": {},
   "outputs": [],
   "source": [
    "# namelist 만들기\n",
    "while True:\n",
    "    name = name_file.readline()\n",
    "    if name == '':\n",
    "        break\n",
    "    name = name.replace('\\n','')        # '\\n' 제거\n",
    "    namelist.append(name)\n",
    "\n",
    "name_file.close()"
   ]
  },
  {
   "cell_type": "code",
   "execution_count": 3,
   "metadata": {},
   "outputs": [],
   "source": [
    "while True:\n",
    "    # 크롤링한 기사 제목 한 줄을 읽어옴\n",
    "    article = article_file.readline()\n",
    "    # 크롤링한 기사 제목을 모두 읽었으면 break\n",
    "    if article == '':\n",
    "        break\n",
    "\n",
    "    # namelist 안의 모든 연예인 이름에 대해서 기사 제목에 포함되는 이름이 있는 지 확인\n",
    "    for name in namelist:\n",
    "        if name in article:\n",
    "            # 아직 dict에 한 번도 추가된 적이 없으면 value = 1로 생성\n",
    "            if not (name in name_count_dict):\n",
    "                name_count_dict[name] = 1\n",
    "            # dict에 추가된 적이 있으면 value++\n",
    "            else:\n",
    "                name_count_dict[name] += 1\n",
    "            # 제목에 포함된 연예인 찾았으면 다음 기사로 넘어가기\n",
    "            break"
   ]
  },
  {
   "cell_type": "code",
   "execution_count": 4,
   "metadata": {},
   "outputs": [
    {
     "name": "stdout",
     "output_type": "stream",
     "text": [
      "name\tcount\t\n",
      "---------------\n",
      "안선영 \t 2\n",
      "김혜수 \t 1\n",
      "김성령 \t 1\n",
      "이하늬 \t 1\n",
      "차영현 \t 1\n",
      "김희정 \t 1\n",
      "다영 \t 1\n",
      "류시원 \t 1\n",
      "조지나 \t 1\n"
     ]
    }
   ],
   "source": [
    "# dict의 value값 (언급 횟수)를 기준으로 내림차순 정렬\n",
    "name_count_dict = sorted(name_count_dict.items(), reverse=True, key=lambda item: item[1])\n",
    "\n",
    "print('name\\tcount\\t')\n",
    "print('---------------')\n",
    "for key, value in name_count_dict:\n",
    "    # output 파일에 결과 쓰기\n",
    "    output_file.write(key + ',' + str(value)+'\\n')\n",
    "    print(key + \" \\t\", value)\n",
    "    \n",
    "article_file.close()\n",
    "output_file.close()"
   ]
  }
 ],
 "metadata": {
  "kernelspec": {
   "display_name": "Python 3",
   "language": "python",
   "name": "python3"
  },
  "language_info": {
   "codemirror_mode": {
    "name": "ipython",
    "version": 3
   },
   "file_extension": ".py",
   "mimetype": "text/x-python",
   "name": "python",
   "nbconvert_exporter": "python",
   "pygments_lexer": "ipython3",
   "version": "3.8.3"
  }
 },
 "nbformat": 4,
 "nbformat_minor": 4
}

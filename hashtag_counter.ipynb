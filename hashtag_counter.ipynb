{
 "cells": [
  {
   "cell_type": "code",
   "execution_count": 31,
   "metadata": {},
   "outputs": [
    {
     "data": {
      "text/html": [
       "<div>\n",
       "<style scoped>\n",
       "    .dataframe tbody tr th:only-of-type {\n",
       "        vertical-align: middle;\n",
       "    }\n",
       "\n",
       "    .dataframe tbody tr th {\n",
       "        vertical-align: top;\n",
       "    }\n",
       "\n",
       "    .dataframe thead th {\n",
       "        text-align: right;\n",
       "    }\n",
       "</style>\n",
       "<table border=\"1\" class=\"dataframe\">\n",
       "  <thead>\n",
       "    <tr style=\"text-align: right;\">\n",
       "      <th></th>\n",
       "      <th>insta_id</th>\n",
       "      <th>hashtag</th>\n",
       "    </tr>\n",
       "  </thead>\n",
       "  <tbody>\n",
       "    <tr>\n",
       "      <th>0</th>\n",
       "      <td>프로레슬링 /프로레슬러 BEOM SO</td>\n",
       "      <td>prowrestlingtees</td>\n",
       "    </tr>\n",
       "    <tr>\n",
       "      <th>1</th>\n",
       "      <td>프로레슬링 /프로레슬러 BEOM SO</td>\n",
       "      <td>prowrestling</td>\n",
       "    </tr>\n",
       "    <tr>\n",
       "      <th>2</th>\n",
       "      <td>프로레슬링 /프로레슬러 BEOM SO</td>\n",
       "      <td>プロレス</td>\n",
       "    </tr>\n",
       "    <tr>\n",
       "      <th>3</th>\n",
       "      <td>moon___bo</td>\n",
       "      <td>언더아머</td>\n",
       "    </tr>\n",
       "    <tr>\n",
       "      <th>4</th>\n",
       "      <td>moon___bo</td>\n",
       "      <td>전신샷</td>\n",
       "    </tr>\n",
       "    <tr>\n",
       "      <th>5</th>\n",
       "      <td>moon___bo</td>\n",
       "      <td>운동</td>\n",
       "    </tr>\n",
       "    <tr>\n",
       "      <th>6</th>\n",
       "      <td>moon___bo</td>\n",
       "      <td>ballislife</td>\n",
       "    </tr>\n",
       "    <tr>\n",
       "      <th>7</th>\n",
       "      <td>moon___bo</td>\n",
       "      <td>오늘의농구</td>\n",
       "    </tr>\n",
       "    <tr>\n",
       "      <th>8</th>\n",
       "      <td>moon___bo</td>\n",
       "      <td>패션</td>\n",
       "    </tr>\n",
       "    <tr>\n",
       "      <th>9</th>\n",
       "      <td>moon___bo</td>\n",
       "      <td>모델</td>\n",
       "    </tr>\n",
       "  </tbody>\n",
       "</table>\n",
       "</div>"
      ],
      "text/plain": [
       "               insta_id           hashtag\n",
       "0  프로레슬링 /프로레슬러 BEOM SO  prowrestlingtees\n",
       "1  프로레슬링 /프로레슬러 BEOM SO      prowrestling\n",
       "2  프로레슬링 /프로레슬러 BEOM SO              プロレス\n",
       "3             moon___bo              언더아머\n",
       "4             moon___bo               전신샷\n",
       "5             moon___bo                운동\n",
       "6             moon___bo        ballislife\n",
       "7             moon___bo             오늘의농구\n",
       "8             moon___bo                패션\n",
       "9             moon___bo                모델"
      ]
     },
     "execution_count": 31,
     "metadata": {},
     "output_type": "execute_result"
    }
   ],
   "source": [
    "import pandas as pd\n",
    "\n",
    "tags = pd.read_csv('insta_언더아머2.csv', encoding = 'utf-8-sig')\n",
    "tags.head(10)"
   ]
  },
  {
   "cell_type": "code",
   "execution_count": 29,
   "metadata": {},
   "outputs": [
    {
     "data": {
      "text/plain": [
       "언더아머             331\n",
       "맵마이런             105\n",
       "underarmourkr     76\n",
       "러닝의즐거움으로오직돌파      61\n",
       "mapmyrun          61\n",
       "오직나만의러닝에피소드       61\n",
       "운동                60\n",
       "호버팬텀2             57\n",
       "서울스탬프러닝챌린지        55\n",
       "러닝                52\n",
       "운동하는남자            47\n",
       "런스타그램             46\n",
       "좋아요               44\n",
       "underarmour       44\n",
       "레드불               42\n",
       "운동하는여자            42\n",
       "링티플러스             42\n",
       "running           41\n",
       "좋아요반사             40\n",
       "나이키               40\n",
       "맞팔                40\n",
       "스트릭               38\n",
       "선팔                36\n",
       "달리기               35\n",
       "헬스                35\n",
       "헬린이               31\n",
       "좋반                30\n",
       "운동스타그램            29\n",
       "헬스타그램             28\n",
       "다이어트              26\n",
       "Name: hashtag, dtype: int64"
      ]
     },
     "execution_count": 29,
     "metadata": {},
     "output_type": "execute_result"
    }
   ],
   "source": [
    "freq = tags['hashtag'].value_counts()\n",
    "freq = freq.sort_values(ascending = False)\n",
    "\n",
    "freq.head(30)"
   ]
  }
 ],
 "metadata": {
  "kernelspec": {
   "display_name": "Python 3",
   "language": "python",
   "name": "python3"
  },
  "language_info": {
   "codemirror_mode": {
    "name": "ipython",
    "version": 3
   },
   "file_extension": ".py",
   "mimetype": "text/x-python",
   "name": "python",
   "nbconvert_exporter": "python",
   "pygments_lexer": "ipython3",
   "version": "3.8.3"
  }
 },
 "nbformat": 4,
 "nbformat_minor": 4
}

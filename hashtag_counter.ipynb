{
 "cells": [
  {
   "cell_type": "code",
   "execution_count": 2,
   "metadata": {},
   "outputs": [
    {
     "data": {
      "text/html": [
       "<div>\n",
       "<style scoped>\n",
       "    .dataframe tbody tr th:only-of-type {\n",
       "        vertical-align: middle;\n",
       "    }\n",
       "\n",
       "    .dataframe tbody tr th {\n",
       "        vertical-align: top;\n",
       "    }\n",
       "\n",
       "    .dataframe thead th {\n",
       "        text-align: right;\n",
       "    }\n",
       "</style>\n",
       "<table border=\"1\" class=\"dataframe\">\n",
       "  <thead>\n",
       "    <tr style=\"text-align: right;\">\n",
       "      <th></th>\n",
       "      <th>insta_id</th>\n",
       "      <th>hashtag</th>\n",
       "    </tr>\n",
       "  </thead>\n",
       "  <tbody>\n",
       "    <tr>\n",
       "      <th>0</th>\n",
       "      <td>프로레슬링 /프로레슬러 BEOM SO</td>\n",
       "      <td>prowrestlingtees</td>\n",
       "    </tr>\n",
       "    <tr>\n",
       "      <th>1</th>\n",
       "      <td>프로레슬링 /프로레슬러 BEOM SO</td>\n",
       "      <td>prowrestling</td>\n",
       "    </tr>\n",
       "    <tr>\n",
       "      <th>2</th>\n",
       "      <td>프로레슬링 /프로레슬러 BEOM SO</td>\n",
       "      <td>プロレス</td>\n",
       "    </tr>\n",
       "    <tr>\n",
       "      <th>3</th>\n",
       "      <td>moon___bo</td>\n",
       "      <td>언더아머</td>\n",
       "    </tr>\n",
       "    <tr>\n",
       "      <th>4</th>\n",
       "      <td>moon___bo</td>\n",
       "      <td>전신샷</td>\n",
       "    </tr>\n",
       "    <tr>\n",
       "      <th>5</th>\n",
       "      <td>moon___bo</td>\n",
       "      <td>운동</td>\n",
       "    </tr>\n",
       "    <tr>\n",
       "      <th>6</th>\n",
       "      <td>moon___bo</td>\n",
       "      <td>ballislife</td>\n",
       "    </tr>\n",
       "    <tr>\n",
       "      <th>7</th>\n",
       "      <td>moon___bo</td>\n",
       "      <td>오늘의농구</td>\n",
       "    </tr>\n",
       "    <tr>\n",
       "      <th>8</th>\n",
       "      <td>moon___bo</td>\n",
       "      <td>패션</td>\n",
       "    </tr>\n",
       "    <tr>\n",
       "      <th>9</th>\n",
       "      <td>moon___bo</td>\n",
       "      <td>모델</td>\n",
       "    </tr>\n",
       "  </tbody>\n",
       "</table>\n",
       "</div>"
      ],
      "text/plain": [
       "               insta_id           hashtag\n",
       "0  프로레슬링 /프로레슬러 BEOM SO  prowrestlingtees\n",
       "1  프로레슬링 /프로레슬러 BEOM SO      prowrestling\n",
       "2  프로레슬링 /프로레슬러 BEOM SO              プロレス\n",
       "3             moon___bo              언더아머\n",
       "4             moon___bo               전신샷\n",
       "5             moon___bo                운동\n",
       "6             moon___bo        ballislife\n",
       "7             moon___bo             오늘의농구\n",
       "8             moon___bo                패션\n",
       "9             moon___bo                모델"
      ]
     },
     "execution_count": 2,
     "metadata": {},
     "output_type": "execute_result"
    }
   ],
   "source": [
    "import pandas as pd\n",
    "\n",
    "tags = pd.read_csv('insta_언더아머2.csv', encoding = 'utf-8-sig')\n",
    "tags.head(10)"
   ]
  },
  {
   "cell_type": "code",
   "execution_count": 23,
   "metadata": {},
   "outputs": [
    {
     "name": "stdout",
     "output_type": "stream",
     "text": [
      "언더아머             331\n",
      "맵마이런             105\n",
      "underarmourkr     76\n",
      "오직나만의러닝에피소드       61\n",
      "러닝의즐거움으로오직돌파      61\n",
      "                ... \n",
      "인스타패션              1\n",
      "합정비키니짐             1\n",
      "늦은후회               1\n",
      "uasherpa           1\n",
      "운동하자               1\n",
      "Name: hashtag, Length: 920, dtype: int64\n"
     ]
    }
   ],
   "source": [
    "freq = tags['hashtag'].value_counts()\n",
    "freq = freq.sort_values(ascending = False)\n",
    "print(freq)"
   ]
  },
  {
   "cell_type": "code",
   "execution_count": 25,
   "metadata": {},
   "outputs": [],
   "source": [
    "# csv로 저장\n",
    "freq.to_csv('hashtag_frequency.csv', encoding = 'utf-8-sig')"
   ]
  }
 ],
 "metadata": {
  "kernelspec": {
   "display_name": "Python 3",
   "language": "python",
   "name": "python3"
  },
  "language_info": {
   "codemirror_mode": {
    "name": "ipython",
    "version": 3
   },
   "file_extension": ".py",
   "mimetype": "text/x-python",
   "name": "python",
   "nbconvert_exporter": "python",
   "pygments_lexer": "ipython3",
   "version": "3.8.3"
  }
 },
 "nbformat": 4,
 "nbformat_minor": 4
}

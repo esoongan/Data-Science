{
 "cells": [
  {
   "cell_type": "code",
   "execution_count": 9,
   "metadata": {},
   "outputs": [
    {
     "name": "stdout",
     "output_type": "stream",
     "text": [
      "            insta_id hashtag\n",
      "0           adidaskr     송민호\n",
      "1           adidaskr      패딩\n",
      "2           adidaskr      리사\n",
      "3           adidaskr     롱패딩\n",
      "4           adidaskr    아디다스\n",
      "...              ...     ...\n",
      "34028  saferoad_mall    명품신발\n",
      "34029  saferoad_mall      발망\n",
      "34030  saferoad_mall   명품티셔츠\n",
      "34031  saferoad_mall     버버리\n",
      "34032  saferoad_mall      신상\n",
      "\n",
      "[34033 rows x 2 columns]\n"
     ]
    }
   ],
   "source": [
    "import pandas as pd\n",
    "\n",
    "#tags1 = pd.read_csv('insta_언더아머1.csv', encoding = 'utf-8-sig')\n",
    "#tags2 = pd.read_csv('insta_언더아머2.csv', encoding = 'utf-8-sig')\n",
    "#tags = tags1.append(tags2)\n",
    "tags = pd.read_csv('insta_아디다스.csv', encoding= 'utf-8-sig')\n",
    "print(tags)"
   ]
  },
  {
   "cell_type": "code",
   "execution_count": 10,
   "metadata": {},
   "outputs": [
    {
     "data": {
      "application/vnd.jupyter.widget-view+json": {
       "model_id": "ada6ef6d791b4a84a893a955fa836c74",
       "version_major": 2,
       "version_minor": 0
      },
      "text/plain": [
       "QgridWidget(grid_options={'fullWidthRows': True, 'syncColumnCellResize': True, 'forceFitColumns': True, 'defau…"
      ]
     },
     "metadata": {},
     "output_type": "display_data"
    }
   ],
   "source": [
    "import qgrid\n",
    "qgrid_widget = qgrid.show_grid(tags, show_toolbar=True)\n",
    "qgrid_widget"
   ]
  },
  {
   "cell_type": "code",
   "execution_count": 16,
   "metadata": {},
   "outputs": [
    {
     "name": "stdout",
     "output_type": "stream",
     "text": [
      "=== 중복 행 개수 ===\n",
      "insta_id    0\n",
      "hashtag     0\n",
      "dtype: int64\n",
      "Empty DataFrame\n",
      "Columns: [insta_id, hashtag]\n",
      "Index: []\n"
     ]
    }
   ],
   "source": [
    "# id와 hashtag 모두 중복되어있는 행 삭제\n",
    "duplicated_df = tags[tags.duplicated()]\n",
    "null_df = duplicated_df[duplicated_df.insta_id=='Null']\n",
    "\n",
    "print('=== 중복 행 개수 ===')\n",
    "print(duplicated_df.count() - null_df.count())\n",
    "print(null_df)"
   ]
  },
  {
   "cell_type": "code",
   "execution_count": 14,
   "metadata": {},
   "outputs": [],
   "source": [
    "# 중복행 삭제\n",
    "# insta_id가 'Null'인 것은 제외\n",
    "tags = tags.drop_duplicates()\n",
    "tags = tags.append(null_df)\n",
    "\n",
    "#print(duplicated[tags.insta_id!='Null'].count())\n",
    "tags = tags.drop_duplicates()"
   ]
  },
  {
   "cell_type": "code",
   "execution_count": 17,
   "metadata": {
    "scrolled": true
   },
   "outputs": [
    {
     "name": "stdout",
     "output_type": "stream",
     "text": [
      "=== hashtag 총 개수: 2503 ===\n",
      "=== insta_id 총 개수: 335 ===\n"
     ]
    },
    {
     "data": {
      "text/plain": [
       "아디다스         325\n",
       "나이키          120\n",
       "데일리룩         100\n",
       "adidas        70\n",
       "일상            67\n",
       "맞팔            56\n",
       "빈티지           54\n",
       "ootd          48\n",
       "오오티디          45\n",
       "데일리           42\n",
       "구제            41\n",
       "선팔            39\n",
       "아메카지          38\n",
       "소통            38\n",
       "좋아요           36\n",
       "좋반            36\n",
       "daily         35\n",
       "좋아요반사         35\n",
       "옷스타그램         34\n",
       "dailylook     34\n",
       "버버리           32\n",
       "빈티지샵          32\n",
       "패션스타그램        32\n",
       "조던            32\n",
       "슈프림           29\n",
       "폴로            27\n",
       "올드스쿨          26\n",
       "바람막이          24\n",
       "나이키매니아        24\n",
       "패션            24\n",
       "미니멀룩          24\n",
       "이지부스트         24\n",
       "선팔하면맞팔        23\n",
       "아메카지코디        22\n",
       "스트릿패션         22\n",
       "신발            22\n",
       "빈티지룩          21\n",
       "셀카            21\n",
       "에어조던          21\n",
       "fashion       21\n",
       "워크웨어          20\n",
       "nike          20\n",
       "스트릿           20\n",
       "구제샵           20\n",
       "운동화           19\n",
       "selfie        19\n",
       "얼스타그램         18\n",
       "광장시장          18\n",
       "airjordan     18\n",
       "남자목걸이         17\n",
       "Name: hashtag, dtype: int64"
      ]
     },
     "execution_count": 17,
     "metadata": {},
     "output_type": "execute_result"
    }
   ],
   "source": [
    "print('=== hashtag 총 개수:', len(pd.unique(tags['hashtag'])), '===')\n",
    "print('=== insta_id 총 개수:', len(pd.unique(tags['insta_id'])), '===')\n",
    "freq = tags['hashtag'].value_counts()\n",
    "# 내림차순 정렬\n",
    "freq = freq.sort_values(ascending = False)\n",
    "freq.head(50)"
   ]
  },
  {
   "cell_type": "code",
   "execution_count": 18,
   "metadata": {},
   "outputs": [],
   "source": [
    "# csv로 저장\n",
    "freq.to_csv('hashtag_frequency_adidas.csv', encoding = 'utf-8-sig')"
   ]
  }
 ],
 "metadata": {
  "kernelspec": {
   "display_name": "Python 3",
   "language": "python",
   "name": "python3"
  },
  "language_info": {
   "codemirror_mode": {
    "name": "ipython",
    "version": 3
   },
   "file_extension": ".py",
   "mimetype": "text/x-python",
   "name": "python",
   "nbconvert_exporter": "python",
   "pygments_lexer": "ipython3",
   "version": "3.8.3"
  },
  "varInspector": {
   "cols": {
    "lenName": "32",
    "lenType": 16,
    "lenVar": 40
   },
   "kernels_config": {
    "python": {
     "delete_cmd_postfix": "",
     "delete_cmd_prefix": "del ",
     "library": "var_list.py",
     "varRefreshCmd": "print(var_dic_list())"
    },
    "r": {
     "delete_cmd_postfix": ") ",
     "delete_cmd_prefix": "rm(",
     "library": "var_list.r",
     "varRefreshCmd": "cat(var_dic_list()) "
    }
   },
   "types_to_exclude": [
    "module",
    "function",
    "builtin_function_or_method",
    "instance",
    "_Feature"
   ],
   "window_display": false
  }
 },
 "nbformat": 4,
 "nbformat_minor": 4
}

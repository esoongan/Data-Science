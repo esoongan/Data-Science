{
 "cells": [
  {
   "cell_type": "code",
   "execution_count": 1,
   "metadata": {},
   "outputs": [
    {
     "name": "stdout",
     "output_type": "stream",
     "text": [
      "                   insta_id           hashtag\n",
      "0      프로레슬링 /프로레슬러 BEOM SO  prowrestlingtees\n",
      "1      프로레슬링 /프로레슬러 BEOM SO      prowrestling\n",
      "2      프로레슬링 /프로레슬러 BEOM SO              プロレス\n",
      "3                 moon___bo              언더아머\n",
      "4                 moon___bo               전신샷\n",
      "...                     ...               ...\n",
      "34772            friday9092             먹스타그램\n",
      "34773            friday9092             얼스타그램\n",
      "34774            friday9092               10월\n",
      "34775            friday9092         instagood\n",
      "34776            friday9092                일상\n",
      "\n",
      "[40543 rows x 2 columns]\n"
     ]
    }
   ],
   "source": [
    "import pandas as pd\n",
    "\n",
    "tags1 = pd.read_csv('insta_언더아머1.csv', encoding = 'utf-8-sig')\n",
    "tags2 = pd.read_csv('insta_언더아머2.csv', encoding = 'utf-8-sig')\n",
    "tags = tags1.append(tags2)\n",
    "print(tags)"
   ]
  },
  {
   "cell_type": "code",
   "execution_count": 2,
   "metadata": {},
   "outputs": [
    {
     "data": {
      "application/vnd.jupyter.widget-view+json": {
       "model_id": "15f893cee4894b51aa1c9640382a96fa",
       "version_major": 2,
       "version_minor": 0
      },
      "text/plain": [
       "QgridWidget(grid_options={'fullWidthRows': True, 'syncColumnCellResize': True, 'forceFitColumns': True, 'defau…"
      ]
     },
     "metadata": {},
     "output_type": "display_data"
    }
   ],
   "source": [
    "import qgrid\n",
    "qgrid_widget = qgrid.show_grid(tags, show_toolbar=True)\n",
    "qgrid_widget"
   ]
  },
  {
   "cell_type": "code",
   "execution_count": 8,
   "metadata": {},
   "outputs": [
    {
     "name": "stdout",
     "output_type": "stream",
     "text": [
      "=== 중복 행 개수 ===\n",
      "insta_id    28880\n",
      "hashtag     28880\n",
      "dtype: int64\n"
     ]
    }
   ],
   "source": [
    "# id와 hashtag 모두 중복되어있는 행 삭제\n",
    "duplicated_df = tags[tags.duplicated()]\n",
    "null_df = duplicated_df[duplicated_df.insta_id=='Null']\n",
    "\n",
    "print('=== 중복 행 개수 ===')\n",
    "print(duplicated_df.count() - null_df.count())"
   ]
  },
  {
   "cell_type": "code",
   "execution_count": 9,
   "metadata": {},
   "outputs": [],
   "source": [
    "# 중복행 삭제\n",
    "# insta_id가 'Null'인 것은 제외\n",
    "tags = tags.drop_duplicates()\n",
    "tags = tags.append(null_df)\n",
    "\n",
    "#print(duplicated[tags.insta_id!='Null'].count())\n",
    "#tags = tags.drop_duplicates()"
   ]
  },
  {
   "cell_type": "code",
   "execution_count": 10,
   "metadata": {},
   "outputs": [
    {
     "name": "stdout",
     "output_type": "stream",
     "text": [
      "=== hashtag 총 개수: 3077 ===\n",
      "=== insta_id 총 개수: 674 ===\n"
     ]
    },
    {
     "data": {
      "text/plain": [
       "언더아머             651\n",
       "운동               189\n",
       "맵마이런             157\n",
       "운동하는남자           121\n",
       "운동하는여자           116\n",
       "운동스타그램           111\n",
       "응비와바프            102\n",
       "underarmourkr    100\n",
       "underarmour       99\n",
       "mapmyrun          92\n",
       "호버팬텀2             85\n",
       "러닝의즐거움으로오직돌파      79\n",
       "오직나만의러닝에피소드       78\n",
       "서울스탬프러닝챌린지        78\n",
       "러닝                73\n",
       "레드불               66\n",
       "헬스                66\n",
       "일상                64\n",
       "나이키               64\n",
       "스트릭               64\n",
       "링티플러스             63\n",
       "running           61\n",
       "스쿼트               60\n",
       "운동소통              60\n",
       "눈바디               59\n",
       "좋아요               59\n",
       "런스타그램             58\n",
       "이벤트               58\n",
       "운동기록              58\n",
       "월요일               56\n",
       "Name: hashtag, dtype: int64"
      ]
     },
     "execution_count": 10,
     "metadata": {},
     "output_type": "execute_result"
    }
   ],
   "source": [
    "print('=== hashtag 총 개수:', len(pd.unique(tags['hashtag'])), '===')\n",
    "print('=== insta_id 총 개수:', len(pd.unique(tags['insta_id'])), '===')\n",
    "freq = tags['hashtag'].value_counts()\n",
    "# 내림차순 정렬\n",
    "freq = freq.sort_values(ascending = False)\n",
    "freq.head(30)"
   ]
  },
  {
   "cell_type": "code",
   "execution_count": null,
   "metadata": {},
   "outputs": [],
   "source": [
    "# csv로 저장\n",
    "freq.to_csv('hashtag_frequency.csv', encoding = 'utf-8-sig')"
   ]
  }
 ],
 "metadata": {
  "kernelspec": {
   "display_name": "Python 3",
   "language": "python",
   "name": "python3"
  },
  "language_info": {
   "codemirror_mode": {
    "name": "ipython",
    "version": 3
   },
   "file_extension": ".py",
   "mimetype": "text/x-python",
   "name": "python",
   "nbconvert_exporter": "python",
   "pygments_lexer": "ipython3",
   "version": "3.8.3"
  },
  "varInspector": {
   "cols": {
    "lenName": "32",
    "lenType": 16,
    "lenVar": 40
   },
   "kernels_config": {
    "python": {
     "delete_cmd_postfix": "",
     "delete_cmd_prefix": "del ",
     "library": "var_list.py",
     "varRefreshCmd": "print(var_dic_list())"
    },
    "r": {
     "delete_cmd_postfix": ") ",
     "delete_cmd_prefix": "rm(",
     "library": "var_list.r",
     "varRefreshCmd": "cat(var_dic_list()) "
    }
   },
   "types_to_exclude": [
    "module",
    "function",
    "builtin_function_or_method",
    "instance",
    "_Feature"
   ],
   "window_display": false
  }
 },
 "nbformat": 4,
 "nbformat_minor": 4
}
